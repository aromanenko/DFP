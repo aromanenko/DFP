{
 "cells": [
  {
   "cell_type": "code",
   "execution_count": 2,
   "id": "e1910205",
   "metadata": {},
   "outputs": [
    {
     "ename": "ModuleNotFoundError",
     "evalue": "No module named 'autocorrections'",
     "output_type": "error",
     "traceback": [
      "\u001b[1;31m---------------------------------------------------------------------------\u001b[0m",
      "\u001b[1;31mModuleNotFoundError\u001b[0m                       Traceback (most recent call last)",
      "\u001b[1;32m~\\AppData\\Local\\Temp/ipykernel_22056/1216177183.py\u001b[0m in \u001b[0;36m<module>\u001b[1;34m\u001b[0m\n\u001b[1;32m----> 1\u001b[1;33m \u001b[1;32mfrom\u001b[0m \u001b[0mautocorrections\u001b[0m \u001b[1;32mimport\u001b[0m \u001b[1;33m*\u001b[0m\u001b[1;33m\u001b[0m\u001b[1;33m\u001b[0m\u001b[0m\n\u001b[0m",
      "\u001b[1;31mModuleNotFoundError\u001b[0m: No module named 'autocorrections'"
     ]
    }
   ],
   "source": [
    "from autocorrections import *"
   ]
  },
  {
   "cell_type": "markdown",
   "id": "eb743637",
   "metadata": {},
   "source": [
    "# Input"
   ]
  },
  {
   "cell_type": "code",
   "execution_count": 5,
   "id": "b66c5f2e",
   "metadata": {},
   "outputs": [],
   "source": [
    "PRODUCT = pd.read_csv('dt/DPS_PRODUCT.csv')\n",
    "LOCATION = pd.read_csv('dt/DPS_LOCATION.csv')\n",
    "CUSTOMER = pd.read_csv('dt/DPS_CUSTOMER.csv')\n",
    "DISTR_CHANNEL = pd.read_csv('dt/DPS_DISTR_CHANNEL.csv')\n",
    "\n",
    "PRODUCT.columns = PRODUCT.columns.str.lower()\n",
    "LOCATION.columns = LOCATION.columns.str.lower()\n",
    "CUSTOMER.columns = CUSTOMER.columns.str.lower()\n",
    "DISTR_CHANNEL.columns = DISTR_CHANNEL.columns.str.lower()"
   ]
  },
  {
   "cell_type": "code",
   "execution_count": 6,
   "id": "9c1e578c",
   "metadata": {},
   "outputs": [
    {
     "name": "stdout",
     "output_type": "stream",
     "text": [
      "<class 'pandas.core.frame.DataFrame'>\n",
      "RangeIndex: 83 entries, 0 to 82\n",
      "Data columns (total 27 columns):\n",
      " #   Column             Non-Null Count  Dtype \n",
      "---  ------             --------------  ----- \n",
      " 0   product_lvl_id1    83 non-null     int64 \n",
      " 1   product_lvl_nm1    83 non-null     object\n",
      " 2   product_lvl_desc1  83 non-null     object\n",
      " 3   product_lvl_id2    83 non-null     int64 \n",
      " 4   product_lvl_nm2    83 non-null     object\n",
      " 5   product_lvl_desc2  83 non-null     object\n",
      " 6   product_lvl_id3    83 non-null     int64 \n",
      " 7   product_lvl_nm3    83 non-null     object\n",
      " 8   product_lvl_desc3  83 non-null     object\n",
      " 9   product_lvl_id4    83 non-null     int64 \n",
      " 10  product_lvl_nm4    83 non-null     object\n",
      " 11  product_lvl_desc4  83 non-null     object\n",
      " 12  product_lvl_id5    83 non-null     int64 \n",
      " 13  product_lvl_nm5    83 non-null     object\n",
      " 14  product_lvl_desc5  83 non-null     object\n",
      " 15  product_lvl_id6    83 non-null     int64 \n",
      " 16  product_lvl_nm6    83 non-null     object\n",
      " 17  product_lvl_desc6  83 non-null     object\n",
      " 18  product_lvl_id7    83 non-null     int64 \n",
      " 19  product_lvl_nm7    83 non-null     object\n",
      " 20  product_lvl_desc7  83 non-null     object\n",
      " 21  parent_product_id  83 non-null     int64 \n",
      " 22  product_id         83 non-null     int64 \n",
      " 23  product_nm         83 non-null     object\n",
      " 24  product_desc       83 non-null     object\n",
      " 25  modified_dttm      83 non-null     object\n",
      " 26  delete_flg         83 non-null     int64 \n",
      "dtypes: int64(10), object(17)\n",
      "memory usage: 17.6+ KB\n"
     ]
    }
   ],
   "source": [
    "PRODUCT.info()"
   ]
  },
  {
   "cell_type": "code",
   "execution_count": 7,
   "id": "154954bb",
   "metadata": {},
   "outputs": [
    {
     "name": "stdout",
     "output_type": "stream",
     "text": [
      "<class 'pandas.core.frame.DataFrame'>\n",
      "RangeIndex: 11 entries, 0 to 10\n",
      "Data columns (total 22 columns):\n",
      " #   Column              Non-Null Count  Dtype \n",
      "---  ------              --------------  ----- \n",
      " 0   location_lvl_id1    11 non-null     int64 \n",
      " 1   location_lvl_nm1    11 non-null     object\n",
      " 2   location_lvl_desc1  11 non-null     object\n",
      " 3   location_lvl_id2    11 non-null     int64 \n",
      " 4   location_lvl_nm2    11 non-null     object\n",
      " 5   location_lvl_desc2  11 non-null     object\n",
      " 6   location_lvl_id3    11 non-null     int64 \n",
      " 7   location_lvl_nm3    11 non-null     object\n",
      " 8   location_lvl_desc3  11 non-null     object\n",
      " 9   location_lvl_id4    11 non-null     int64 \n",
      " 10  location_lvl_nm4    11 non-null     object\n",
      " 11  location_lvl_desc4  11 non-null     object\n",
      " 12  location_lvl_id5    11 non-null     int64 \n",
      " 13  location_lvl_nm5    11 non-null     object\n",
      " 14  location_lvl_desc5  11 non-null     object\n",
      " 15  location_id         11 non-null     int64 \n",
      " 16  location_nm         11 non-null     object\n",
      " 17  location_desc       11 non-null     object\n",
      " 18  open_dttm           11 non-null     object\n",
      " 19  close_dttm          11 non-null     object\n",
      " 20  modified_dttm       11 non-null     object\n",
      " 21  delete_flg          11 non-null     int64 \n",
      "dtypes: int64(7), object(15)\n",
      "memory usage: 2.0+ KB\n"
     ]
    }
   ],
   "source": [
    "LOCATION.info()"
   ]
  },
  {
   "cell_type": "code",
   "execution_count": 8,
   "id": "649a5d3b",
   "metadata": {},
   "outputs": [
    {
     "name": "stdout",
     "output_type": "stream",
     "text": [
      "<class 'pandas.core.frame.DataFrame'>\n",
      "RangeIndex: 20 entries, 0 to 19\n",
      "Data columns (total 22 columns):\n",
      " #   Column              Non-Null Count  Dtype \n",
      "---  ------              --------------  ----- \n",
      " 0   customer_lvl_id1    20 non-null     int64 \n",
      " 1   location_lvl_nm1    20 non-null     object\n",
      " 2   location_lvl_desc1  20 non-null     object\n",
      " 3   customer_lvl_id2    20 non-null     int64 \n",
      " 4   location_lvl_nm2    20 non-null     object\n",
      " 5   location_lvl_desc2  20 non-null     object\n",
      " 6   customer_lvl_id3    20 non-null     int64 \n",
      " 7   customer_lvl_nm3    20 non-null     object\n",
      " 8   customer_lvl_desc3  20 non-null     object\n",
      " 9   customer_lvl_id4    20 non-null     int64 \n",
      " 10  customer_lvl_nm4    20 non-null     object\n",
      " 11  customer_lvl_desc4  20 non-null     object\n",
      " 12  customer_lvl_id5    20 non-null     int64 \n",
      " 13  customer_lvl_nm5    20 non-null     object\n",
      " 14  customer_lvl_desc5  20 non-null     object\n",
      " 15  customer_id         20 non-null     int64 \n",
      " 16  customer_nm         20 non-null     object\n",
      " 17  customer_desc       20 non-null     object\n",
      " 18  open_dttm           20 non-null     object\n",
      " 19  close_dttm          20 non-null     object\n",
      " 20  modified_dttm       20 non-null     object\n",
      " 21  delete_flg          20 non-null     int64 \n",
      "dtypes: int64(7), object(15)\n",
      "memory usage: 3.6+ KB\n"
     ]
    }
   ],
   "source": [
    "CUSTOMER.info()"
   ]
  },
  {
   "cell_type": "code",
   "execution_count": 9,
   "id": "7f84b1b9",
   "metadata": {},
   "outputs": [
    {
     "name": "stdout",
     "output_type": "stream",
     "text": [
      "<class 'pandas.core.frame.DataFrame'>\n",
      "RangeIndex: 1 entries, 0 to 0\n",
      "Data columns (total 10 columns):\n",
      " #   Column                   Non-Null Count  Dtype  \n",
      "---  ------                   --------------  -----  \n",
      " 0   distr_channel_lvl_id1    1 non-null      int64  \n",
      " 1   distr_channel_lvl_nm1    1 non-null      object \n",
      " 2   distr_channel_lvl_desc1  1 non-null      object \n",
      " 3   distr_channel_id         1 non-null      int64  \n",
      " 4   distr_channel_nm         1 non-null      object \n",
      " 5   distr_channel_desc       1 non-null      object \n",
      " 6   open_dttm                1 non-null      object \n",
      " 7   close_dttm               0 non-null      float64\n",
      " 8   modified_dttm            1 non-null      object \n",
      " 9   delete_flg               1 non-null      int64  \n",
      "dtypes: float64(1), int64(3), object(6)\n",
      "memory usage: 208.0+ bytes\n"
     ]
    }
   ],
   "source": [
    "DISTR_CHANNEL.info()"
   ]
  },
  {
   "cell_type": "markdown",
   "id": "7d59aa4c",
   "metadata": {},
   "source": [
    "# 2.5\t CONFIG_PARAMETERS"
   ]
  },
  {
   "cell_type": "code",
   "execution_count": 10,
   "id": "5f86e7e2",
   "metadata": {},
   "outputs": [],
   "source": [
    "config_parameters = {\n",
    "    'IB_ADJ_FORECAST_LIST' : 'ACC_AGG_HYBRID_FORECAST',\n",
    "    'IB_NPF_MAX_HIST_DEPTH' : 28,\n",
    "    'IB_ADJ2_MIN_OBSERV_NUM' : 7,\n",
    "    'IB_ADJ2_BASE_PAST_PERIOD' : 56,\n",
    "    'IB_ADJ3_BASE_PAST_PERIOD' : 56,\n",
    "    'IB_ADJ3_SEASONL_CALC_LVL' : 7,  #\n",
    "    'IB_ADJ3_USE_SEAS_COEF_FLG' : 1,\n",
    "    'IB_ADJ3_MIN_OBSERV_NUM' : 28,\n",
    "    'IB_ADJ3_CORRECTION_METHOD' : 'mean',\n",
    "    'IBN_FF_ACTIVE_STATUS_LIST' : 'active'\n",
    "}"
   ]
  },
  {
   "cell_type": "markdown",
   "id": "6d593cf3",
   "metadata": {},
   "source": [
    "# 2.5.1 CONFIG-FILE TARGET VARIABLES"
   ]
  },
  {
   "cell_type": "code",
   "execution_count": 43,
   "id": "5b6e85b9",
   "metadata": {},
   "outputs": [],
   "source": [
    "config_file = {\n",
    "    'tgt_type' : 'POS',\n",
    "    'tgt_qty_table' : 'IN_SALES',\n",
    "    'value_src' : 'SALES_QTY',\n",
    "    'act_flag' : 1,\n",
    "    'dr_scen' : 0, \n",
    "    'link_with_stock' : 1,\n",
    "    'link_with_promo' : 1,\n",
    "    'link_with_price' : 1,\n",
    "    'vf_PRODUCT_lvl' : 1,\n",
    "    'vf_LOCATION_lvl' : 1,\n",
    "    'vf_CUSTOMER_lvl' : 1,\n",
    "    'vf_DISTR_CHANNEL_lvl' : 1,\n",
    "    'vf_time_lvl' : 'WEEK',\n",
    "    'ml_product_lvl' : 7,\n",
    "    'ml_location_lvl' : 5,\n",
    "    'ml_customer_lvl' : 3,\n",
    "    'ml_distr_channel_lvl' : 3,\n",
    "    'ml_time_lvl' : 'WEEK',\n",
    "    'out_product_lvl' : 7,\n",
    "    'out_location_lvl' : 5,\n",
    "    'out_customer_lvl' : 3,\n",
    "    'out_distr_channel_lvl' : 3,\n",
    "    'out_time_lvl' : 'WEEK'\n",
    "}\n",
    "\n",
    "hierarchies = {\n",
    "    'PRODUCT' : PRODUCT,\n",
    "    'LOCATION' : LOCATION,\n",
    "    'CUSTOMER' : CUSTOMER,\n",
    "    'DISTR_CHANNEL' : DISTR_CHANNEL\n",
    "}\n",
    "IB_HIST_START_DT = datetime.datetime(2022, 6, 15)\n",
    "IB_HIST_END_DT = datetime.datetime(2022, 7, 30)\n",
    "IB_FC_HORIZ = 30\n",
    "# delays_config_length = 30"
   ]
  },
  {
   "cell_type": "markdown",
   "id": "fd68755a",
   "metadata": {},
   "source": [
    "# Generate Data\n",
    "## DISACC_DISAGG_HYBRID_FORECAST, FORECAST_FLAG"
   ]
  },
  {
   "cell_type": "code",
   "execution_count": 44,
   "id": "c225e42e",
   "metadata": {},
   "outputs": [],
   "source": [
    "import pandas as pd\n",
    "import numpy as np\n",
    "import datetime\n",
    "from calendar import monthrange\n",
    "# import reconcilation\n",
    "import warnings\n",
    "warnings.filterwarnings('ignore')"
   ]
  },
  {
   "cell_type": "code",
   "execution_count": 45,
   "id": "9de92aeb",
   "metadata": {},
   "outputs": [],
   "source": [
    "def generate_data(config_file : dict, \n",
    "                  IB_HIST_END_DT : datetime.datetime, \n",
    "                  hierarchies : dict) -> (pd.DataFrame, pd.DataFrame):\n",
    "    \"\"\"\n",
    "    Function generating input data\n",
    "    \n",
    "    Parameters\n",
    "    ----------\n",
    "    config_file : dict\n",
    "        Configuration parameters used within the step\n",
    "    IB_HIST_END_DT\n",
    "        Last known date (i.e. sales and stock information is known)\n",
    "    hierarchies\n",
    "        Dictionary containg matches of key names with the relevant hierarchical tables\n",
    "       \n",
    "    Returns\n",
    "    -------\n",
    "    pd.DataFrame\n",
    "        ACC_AGG_HYBRID_FORECAST_ used as input data of the algorithm\n",
    "    pd.DataFrame\n",
    "        DEMAND_RESTORED_ Demand information regarding \n",
    "        the past till last known day of the history.\n",
    "    pd.DataFrame\n",
    "        FORECAST_FLAG used as input data of the algorithm\n",
    "    pd.DataFrame    \n",
    "        PRE_ABT General table for ML and VF ABTs preparation\n",
    "        used as input data of the algorithm\n",
    "    \"\"\"\n",
    "    \n",
    "    freq = config_file['out_time_lvl'][0]\n",
    "    timerange = pd.date_range(IB_HIST_END_DT, IB_HIST_END_DT + datetime.timedelta(weeks=52), freq=freq)\n",
    "    timerange += datetime.timedelta(1)\n",
    "    \n",
    "    ACC_AGG_HYBRID_FORECAST_ = pd.DataFrame(timerange, columns=['PERIOD_DT'])\n",
    "    \n",
    "#     for key in ['PRODUCT', 'LOCATION', 'CUSTOMER', 'DISTR_CHANNEL']:\n",
    "#         column_name = f\"{key}_LVL_ID{config_file[f'vf_{key}_lvl']}\"\n",
    "#         keys_df = pd.DataFrame(hierarchies[key][column_name]).drop_duplicates()\n",
    "#         ACC_AGG_HYBRID_FORECAST_ = pd.merge(ACC_AGG_HYBRID_FORECAST_, keys_df, 'cross')\n",
    "\n",
    "#     ACC_AGG_HYBRID_FORECAST_['SEGMENT_NAME'] = ['name1' for x in range(600001, 602001)],\n",
    "    ACC_AGG_HYBRID_FORECAST_['VF_FORECAST_VALUE'] = np.abs(np.random.normal(500, 300, \n",
    "                                                                            ACC_AGG_HYBRID_FORECAST_.shape[0]))\n",
    "    ACC_AGG_HYBRID_FORECAST_['DEMAND_TYPE'] = np.random.choice(['promo', 'regular'], \n",
    "                                                               ACC_AGG_HYBRID_FORECAST_.shape[0])\n",
    "    ACC_AGG_HYBRID_FORECAST_['ASSORTMENT_TYPE'] = np.random.choice(['new', 'old'], \n",
    "                                                               ACC_AGG_HYBRID_FORECAST_.shape[0])\n",
    "    ACC_AGG_HYBRID_FORECAST_['ML_FORECAST_VALUE'] = np.abs(np.random.normal(500, 300, \n",
    "                                                                            ACC_AGG_HYBRID_FORECAST_.shape[0]))\n",
    "    ACC_AGG_HYBRID_FORECAST_['HYBRID_FORECAST_VALUE'] = np.abs(np.random.normal(500, 300, \n",
    "                                                                            ACC_AGG_HYBRID_FORECAST_.shape[0]))\n",
    "#     ACC_AGG_HYBRID_FORECAST_['ENSEMBLE_FORECAST_VALUE'] = np.mean(ML_FORECAST_VALUE, VF_FORECAST_VALUE)\n",
    "    ACC_AGG_HYBRID_FORECAST_['FORECAST_SOURCE'] = np.random.choice(['vf', 'ml'], \n",
    "                                                               ACC_AGG_HYBRID_FORECAST_.shape[0])\n",
    "\n",
    "    \n",
    "    DEMAND_RESTORED = pd.DataFrame()\n",
    "    DEMAND_RESTORED['PERIOD_DT'] = pd.date_range(IB_HIST_START_DT, IB_HIST_END_DT)\n",
    "    DEMAND_RESTORED = pd.merge(DEMAND_RESTORED, PRODUCT['PRODUCT_ID'], 'cross')\n",
    "    DEMAND_RESTORED = pd.merge(DEMAND_RESTORED, LOCATION['LOCATION_ID'], 'cross')\n",
    "    DEMAND_RESTORED = pd.merge(DEMAND_RESTORED, CUSTOMER['CUSTOMER_ID'], 'cross')\n",
    "    DEMAND_RESTORED = pd.merge(DEMAND_RESTORED, DISTR_CHANNEL['DISTR_CHANNEL_ID'], 'cross')\n",
    "    \n",
    "    DEMAND_RESTORED['TGT_QTY'] = abs(np.random.normal(500, 300, DEMAND_RESTORED.shape[0]))\n",
    "    DEMAND_RESTORED['TGT_QTY_R'] = DEMAND_RESTORED['TGT_QTY'] + np.random.normal(50, 30, DEMAND_RESTORED.shape[0])\n",
    "    DEMAND_RESTORED['STOCK_QTY'] = abs(np.random.normal(500, 300, DEMAND_RESTORED.shape[0]))\n",
    "    DEMAND_RESTORED['PROMO_FLG'] = np.random.choice([0, 1], p = [0.8, 0.2], size = DEMAND_RESTORED.shape[0])\n",
    "    DEMAND_RESTORED['DEFICIT_FLG1'] = np.random.choice([0, 1], p = [0.8, 0.2], size = DEMAND_RESTORED.shape[0])\n",
    "    DEMAND_RESTORED['DEFICIT_FLG2'] = np.random.choice([0, 1], p = [0.8, 0.2], size = DEMAND_RESTORED.shape[0])\n",
    "    \n",
    "    FORECAST_FLAG = pd.DataFrame()\n",
    "    FORECAST_FLAG['PERIOD_START_DT'] = [IB_HIST_START_DT]\n",
    "    FORECAST_FLAG['PERIOD_END_DT'] = FORECAST_FLAG['IB_HIST_START_DT'][0] + datetime.timedelta(days=30)\n",
    "\n",
    "    for key in hierarchies:\n",
    "        key_df = hierarchies[key][f\"{key}_ID\"]\n",
    "        FORECAST_FLAG = pd.merge(FORECAST_FLAG, key_df, 'cross')\n",
    "\n",
    "    FORECAST_FLAG['STATUS'] = np.random.choice(['active', 'blocked', 'out-of-sale'], size = FORECAST_FLAG.shape[0])\n",
    "#     FORECAST_FLAG.loc[(FORECAST_FLAG['PRODUCT_ID'] == PROMO['PRODUCT_ID'][0]) &\n",
    "#                      (FORECAST_FLAG['LOCATION_ID'] == PROMO['LOCATION_ID'][0]) &\n",
    "#                      (FORECAST_FLAG['CUSTOMER_ID'] == PROMO['CUSTOMER_ID'][0]) &\n",
    "#                      (FORECAST_FLAG['DISTR_CHANNEL_ID'] == PROMO['DISTR_CHANNEL_ID'][0]), 'STATUS'] = 'active'\n",
    "\n",
    "    PRE_ABT = pd.DataFrame()\n",
    "    \n",
    "    \n",
    "    return ACC_AGG_HYBRID_FORECAST_, DEMAND_RESTORED, FORECAST_FLAG, PRE_ABT\n",
    "    "
   ]
  },
  {
   "cell_type": "code",
   "execution_count": 46,
   "id": "40434b65",
   "metadata": {},
   "outputs": [
    {
     "ename": "KeyError",
     "evalue": "'PRODUCT_ID'",
     "output_type": "error",
     "traceback": [
      "\u001b[1;31m---------------------------------------------------------------------------\u001b[0m",
      "\u001b[1;31mKeyError\u001b[0m                                  Traceback (most recent call last)",
      "\u001b[1;32mC:\\ProgramData\\Anaconda3\\lib\\site-packages\\pandas\\core\\indexes\\base.py\u001b[0m in \u001b[0;36mget_loc\u001b[1;34m(self, key, method, tolerance)\u001b[0m\n\u001b[0;32m   3360\u001b[0m             \u001b[1;32mtry\u001b[0m\u001b[1;33m:\u001b[0m\u001b[1;33m\u001b[0m\u001b[1;33m\u001b[0m\u001b[0m\n\u001b[1;32m-> 3361\u001b[1;33m                 \u001b[1;32mreturn\u001b[0m \u001b[0mself\u001b[0m\u001b[1;33m.\u001b[0m\u001b[0m_engine\u001b[0m\u001b[1;33m.\u001b[0m\u001b[0mget_loc\u001b[0m\u001b[1;33m(\u001b[0m\u001b[0mcasted_key\u001b[0m\u001b[1;33m)\u001b[0m\u001b[1;33m\u001b[0m\u001b[1;33m\u001b[0m\u001b[0m\n\u001b[0m\u001b[0;32m   3362\u001b[0m             \u001b[1;32mexcept\u001b[0m \u001b[0mKeyError\u001b[0m \u001b[1;32mas\u001b[0m \u001b[0merr\u001b[0m\u001b[1;33m:\u001b[0m\u001b[1;33m\u001b[0m\u001b[1;33m\u001b[0m\u001b[0m\n",
      "\u001b[1;32mC:\\ProgramData\\Anaconda3\\lib\\site-packages\\pandas\\_libs\\index.pyx\u001b[0m in \u001b[0;36mpandas._libs.index.IndexEngine.get_loc\u001b[1;34m()\u001b[0m\n",
      "\u001b[1;32mC:\\ProgramData\\Anaconda3\\lib\\site-packages\\pandas\\_libs\\index.pyx\u001b[0m in \u001b[0;36mpandas._libs.index.IndexEngine.get_loc\u001b[1;34m()\u001b[0m\n",
      "\u001b[1;32mpandas\\_libs\\hashtable_class_helper.pxi\u001b[0m in \u001b[0;36mpandas._libs.hashtable.PyObjectHashTable.get_item\u001b[1;34m()\u001b[0m\n",
      "\u001b[1;32mpandas\\_libs\\hashtable_class_helper.pxi\u001b[0m in \u001b[0;36mpandas._libs.hashtable.PyObjectHashTable.get_item\u001b[1;34m()\u001b[0m\n",
      "\u001b[1;31mKeyError\u001b[0m: 'PRODUCT_ID'",
      "\nThe above exception was the direct cause of the following exception:\n",
      "\u001b[1;31mKeyError\u001b[0m                                  Traceback (most recent call last)",
      "\u001b[1;32m~\\AppData\\Local\\Temp/ipykernel_22056/3536441431.py\u001b[0m in \u001b[0;36m<module>\u001b[1;34m\u001b[0m\n\u001b[1;32m----> 1\u001b[1;33m \u001b[0mACC_AGG_HYBRID_FORECAST_\u001b[0m\u001b[1;33m,\u001b[0m \u001b[0mDEMAND_RESTORED\u001b[0m\u001b[1;33m,\u001b[0m \u001b[0mFORECAST_FLAG\u001b[0m\u001b[1;33m,\u001b[0m \u001b[0mPRE_ABT\u001b[0m \u001b[1;33m=\u001b[0m \u001b[0mgenerate_data\u001b[0m\u001b[1;33m(\u001b[0m\u001b[0mconfig_file\u001b[0m\u001b[1;33m,\u001b[0m \u001b[0mIB_HIST_END_DT\u001b[0m\u001b[1;33m,\u001b[0m \u001b[0mhierarchies\u001b[0m\u001b[1;33m)\u001b[0m\u001b[1;33m\u001b[0m\u001b[1;33m\u001b[0m\u001b[0m\n\u001b[0m",
      "\u001b[1;32m~\\AppData\\Local\\Temp/ipykernel_22056/1495278012.py\u001b[0m in \u001b[0;36mgenerate_data\u001b[1;34m(config_file, IB_HIST_END_DT, hierarchies)\u001b[0m\n\u001b[0;32m     57\u001b[0m     \u001b[0mDEMAND_RESTORED\u001b[0m \u001b[1;33m=\u001b[0m \u001b[0mpd\u001b[0m\u001b[1;33m.\u001b[0m\u001b[0mDataFrame\u001b[0m\u001b[1;33m(\u001b[0m\u001b[1;33m)\u001b[0m\u001b[1;33m\u001b[0m\u001b[1;33m\u001b[0m\u001b[0m\n\u001b[0;32m     58\u001b[0m     \u001b[0mDEMAND_RESTORED\u001b[0m\u001b[1;33m[\u001b[0m\u001b[1;34m'PERIOD_DT'\u001b[0m\u001b[1;33m]\u001b[0m \u001b[1;33m=\u001b[0m \u001b[0mpd\u001b[0m\u001b[1;33m.\u001b[0m\u001b[0mdate_range\u001b[0m\u001b[1;33m(\u001b[0m\u001b[0mIB_HIST_START_DT\u001b[0m\u001b[1;33m,\u001b[0m \u001b[0mIB_HIST_END_DT\u001b[0m\u001b[1;33m)\u001b[0m\u001b[1;33m\u001b[0m\u001b[1;33m\u001b[0m\u001b[0m\n\u001b[1;32m---> 59\u001b[1;33m     \u001b[0mDEMAND_RESTORED\u001b[0m \u001b[1;33m=\u001b[0m \u001b[0mpd\u001b[0m\u001b[1;33m.\u001b[0m\u001b[0mmerge\u001b[0m\u001b[1;33m(\u001b[0m\u001b[0mDEMAND_RESTORED\u001b[0m\u001b[1;33m,\u001b[0m \u001b[0mPRODUCT\u001b[0m\u001b[1;33m[\u001b[0m\u001b[1;34m'PRODUCT_ID'\u001b[0m\u001b[1;33m]\u001b[0m\u001b[1;33m,\u001b[0m \u001b[1;34m'cross'\u001b[0m\u001b[1;33m)\u001b[0m\u001b[1;33m\u001b[0m\u001b[1;33m\u001b[0m\u001b[0m\n\u001b[0m\u001b[0;32m     60\u001b[0m     \u001b[0mDEMAND_RESTORED\u001b[0m \u001b[1;33m=\u001b[0m \u001b[0mpd\u001b[0m\u001b[1;33m.\u001b[0m\u001b[0mmerge\u001b[0m\u001b[1;33m(\u001b[0m\u001b[0mDEMAND_RESTORED\u001b[0m\u001b[1;33m,\u001b[0m \u001b[0mLOCATION\u001b[0m\u001b[1;33m[\u001b[0m\u001b[1;34m'LOCATION_ID'\u001b[0m\u001b[1;33m]\u001b[0m\u001b[1;33m,\u001b[0m \u001b[1;34m'cross'\u001b[0m\u001b[1;33m)\u001b[0m\u001b[1;33m\u001b[0m\u001b[1;33m\u001b[0m\u001b[0m\n\u001b[0;32m     61\u001b[0m     \u001b[0mDEMAND_RESTORED\u001b[0m \u001b[1;33m=\u001b[0m \u001b[0mpd\u001b[0m\u001b[1;33m.\u001b[0m\u001b[0mmerge\u001b[0m\u001b[1;33m(\u001b[0m\u001b[0mDEMAND_RESTORED\u001b[0m\u001b[1;33m,\u001b[0m \u001b[0mCUSTOMER\u001b[0m\u001b[1;33m[\u001b[0m\u001b[1;34m'CUSTOMER_ID'\u001b[0m\u001b[1;33m]\u001b[0m\u001b[1;33m,\u001b[0m \u001b[1;34m'cross'\u001b[0m\u001b[1;33m)\u001b[0m\u001b[1;33m\u001b[0m\u001b[1;33m\u001b[0m\u001b[0m\n",
      "\u001b[1;32mC:\\ProgramData\\Anaconda3\\lib\\site-packages\\pandas\\core\\frame.py\u001b[0m in \u001b[0;36m__getitem__\u001b[1;34m(self, key)\u001b[0m\n\u001b[0;32m   3456\u001b[0m             \u001b[1;32mif\u001b[0m \u001b[0mself\u001b[0m\u001b[1;33m.\u001b[0m\u001b[0mcolumns\u001b[0m\u001b[1;33m.\u001b[0m\u001b[0mnlevels\u001b[0m \u001b[1;33m>\u001b[0m \u001b[1;36m1\u001b[0m\u001b[1;33m:\u001b[0m\u001b[1;33m\u001b[0m\u001b[1;33m\u001b[0m\u001b[0m\n\u001b[0;32m   3457\u001b[0m                 \u001b[1;32mreturn\u001b[0m \u001b[0mself\u001b[0m\u001b[1;33m.\u001b[0m\u001b[0m_getitem_multilevel\u001b[0m\u001b[1;33m(\u001b[0m\u001b[0mkey\u001b[0m\u001b[1;33m)\u001b[0m\u001b[1;33m\u001b[0m\u001b[1;33m\u001b[0m\u001b[0m\n\u001b[1;32m-> 3458\u001b[1;33m             \u001b[0mindexer\u001b[0m \u001b[1;33m=\u001b[0m \u001b[0mself\u001b[0m\u001b[1;33m.\u001b[0m\u001b[0mcolumns\u001b[0m\u001b[1;33m.\u001b[0m\u001b[0mget_loc\u001b[0m\u001b[1;33m(\u001b[0m\u001b[0mkey\u001b[0m\u001b[1;33m)\u001b[0m\u001b[1;33m\u001b[0m\u001b[1;33m\u001b[0m\u001b[0m\n\u001b[0m\u001b[0;32m   3459\u001b[0m             \u001b[1;32mif\u001b[0m \u001b[0mis_integer\u001b[0m\u001b[1;33m(\u001b[0m\u001b[0mindexer\u001b[0m\u001b[1;33m)\u001b[0m\u001b[1;33m:\u001b[0m\u001b[1;33m\u001b[0m\u001b[1;33m\u001b[0m\u001b[0m\n\u001b[0;32m   3460\u001b[0m                 \u001b[0mindexer\u001b[0m \u001b[1;33m=\u001b[0m \u001b[1;33m[\u001b[0m\u001b[0mindexer\u001b[0m\u001b[1;33m]\u001b[0m\u001b[1;33m\u001b[0m\u001b[1;33m\u001b[0m\u001b[0m\n",
      "\u001b[1;32mC:\\ProgramData\\Anaconda3\\lib\\site-packages\\pandas\\core\\indexes\\base.py\u001b[0m in \u001b[0;36mget_loc\u001b[1;34m(self, key, method, tolerance)\u001b[0m\n\u001b[0;32m   3361\u001b[0m                 \u001b[1;32mreturn\u001b[0m \u001b[0mself\u001b[0m\u001b[1;33m.\u001b[0m\u001b[0m_engine\u001b[0m\u001b[1;33m.\u001b[0m\u001b[0mget_loc\u001b[0m\u001b[1;33m(\u001b[0m\u001b[0mcasted_key\u001b[0m\u001b[1;33m)\u001b[0m\u001b[1;33m\u001b[0m\u001b[1;33m\u001b[0m\u001b[0m\n\u001b[0;32m   3362\u001b[0m             \u001b[1;32mexcept\u001b[0m \u001b[0mKeyError\u001b[0m \u001b[1;32mas\u001b[0m \u001b[0merr\u001b[0m\u001b[1;33m:\u001b[0m\u001b[1;33m\u001b[0m\u001b[1;33m\u001b[0m\u001b[0m\n\u001b[1;32m-> 3363\u001b[1;33m                 \u001b[1;32mraise\u001b[0m \u001b[0mKeyError\u001b[0m\u001b[1;33m(\u001b[0m\u001b[0mkey\u001b[0m\u001b[1;33m)\u001b[0m \u001b[1;32mfrom\u001b[0m \u001b[0merr\u001b[0m\u001b[1;33m\u001b[0m\u001b[1;33m\u001b[0m\u001b[0m\n\u001b[0m\u001b[0;32m   3364\u001b[0m \u001b[1;33m\u001b[0m\u001b[0m\n\u001b[0;32m   3365\u001b[0m         \u001b[1;32mif\u001b[0m \u001b[0mis_scalar\u001b[0m\u001b[1;33m(\u001b[0m\u001b[0mkey\u001b[0m\u001b[1;33m)\u001b[0m \u001b[1;32mand\u001b[0m \u001b[0misna\u001b[0m\u001b[1;33m(\u001b[0m\u001b[0mkey\u001b[0m\u001b[1;33m)\u001b[0m \u001b[1;32mand\u001b[0m \u001b[1;32mnot\u001b[0m \u001b[0mself\u001b[0m\u001b[1;33m.\u001b[0m\u001b[0mhasnans\u001b[0m\u001b[1;33m:\u001b[0m\u001b[1;33m\u001b[0m\u001b[1;33m\u001b[0m\u001b[0m\n",
      "\u001b[1;31mKeyError\u001b[0m: 'PRODUCT_ID'"
     ]
    }
   ],
   "source": [
    "ACC_AGG_HYBRID_FORECAST_, DEMAND_RESTORED, FORECAST_FLAG, PRE_ABT = generate_data(config_file, IB_HIST_END_DT, hierarchies)"
   ]
  },
  {
   "cell_type": "code",
   "execution_count": null,
   "id": "ea90575c",
   "metadata": {},
   "outputs": [],
   "source": [
    "DISACC_DISAGG_HYBRID_FORECAST = pd.DataFrame(\n",
    "    {\n",
    "        'PRODUCT_LVL_ID6': [x for x in range(600001, 602001)],\n",
    "        'LOCATION_LVL_ID8': [x for x in range(800001, 802001)],\n",
    "        'CUSTOMER_LVL_ID6': [x for x in range(600001, 602001)],\n",
    "        'DISTR_CHANNEL_LVL_ID6': [x for x in range(600001, 602001)],\n",
    "        'PERIOD_DT': pd.date_range(start='2015-01-01', periods=2000, freq='MS'),\n",
    "        'SEGMENT_NAME': ['t1' for x in range(600001, 602001)],\n",
    "        'VF_FORECAST_VALUE': np.random.uniform(0, 100, 2000),\n",
    "        'DEMAND_TYPE': np.random.randint(0, 2, 2000),\n",
    "        'PERIOD_END_DT': pd.date_range(start='2015-02-01', periods=2000, freq='MS'),\n",
    "        'ASSORTMENT_TYPE': np.random.choice(['new', 'old'], 2000),\n",
    "        'ML_FORECAST_VALUE': np.random.uniform(0, 100, 2000),\n",
    "        'HYBRID_FORECAST_VALUE': abs(np.random.normal(size=size)),\n",
    "        'ENSEMBLE_FORECAST_VALUE': np.random.uniform(0, 100, 2000),\n",
    "        'FORECAST_SOURCE':  np.random.uniform(0, 100, 2000)\n",
    "    }\n",
    "                           )\n",
    "\n",
    "DISACC_DISAGG_HYBRID_FORECAST['PERIOD_DT'] += pd.Timedelta('1D')"
   ]
  },
  {
   "cell_type": "code",
   "execution_count": null,
   "id": "0a391c67",
   "metadata": {},
   "outputs": [],
   "source": [
    "date = pd.date_range(pd.date_range(start='2015-01-01', periods=2000, freq='MS'), \n",
    "                     pd.date_range(start='2015-02-01', periods=2000, freq='MS'), freq='D')\n",
    "size = len(date)\n",
    "FORECAST_FLAG = pd.DataFrame(\n",
    "    {\n",
    "        'PRODUCT_LVL_ID6': [x for x in range(600001, 602001)],\n",
    "        'LOCATION_LVL_ID8': [x for x in range(800001, 802001)],\n",
    "        'CUSTOMER_LVL_ID6': [x for x in range(600001, 602001)],\n",
    "        'DISTR_CHANNEL_LVL_ID6': [x for x in range(600001, 602001)],\n",
    "        'PERIOD_DT': pd.date_range(start='2015-01-01', periods=2000, freq='MS'),\n",
    "        'PERIOD_END_DT': pd.date_range(start='2015-02-01', periods=2000, freq='MS'),\n",
    "        'STATUS': np.random.choice(['active', 'blocked', 'out-of-sale'], size = size))\n",
    "    }\n",
    "                           )\n",
    "\n",
    "FORECAST_FLAG['PERIOD_DT'] += pd.Timedelta('1D')"
   ]
  },
  {
   "cell_type": "code",
   "execution_count": null,
   "id": "2e355a1e",
   "metadata": {},
   "outputs": [],
   "source": [
    "df = delete_forecast_inactive_period(DISACC_DISAGG_HYBRID_FORECAST, FORECAST_FLAG)"
   ]
  },
  {
   "cell_type": "code",
   "execution_count": null,
   "id": "f73a2d5f",
   "metadata": {},
   "outputs": [],
   "source": [
    "df.head()"
   ]
  }
 ],
 "metadata": {
  "kernelspec": {
   "display_name": "Python 3 (ipykernel)",
   "language": "python",
   "name": "python3"
  },
  "language_info": {
   "codemirror_mode": {
    "name": "ipython",
    "version": 3
   },
   "file_extension": ".py",
   "mimetype": "text/x-python",
   "name": "python",
   "nbconvert_exporter": "python",
   "pygments_lexer": "ipython3",
   "version": "3.9.7"
  }
 },
 "nbformat": 4,
 "nbformat_minor": 5
}
