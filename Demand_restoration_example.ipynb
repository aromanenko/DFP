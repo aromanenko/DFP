{
 "cells": [
  {
   "cell_type": "code",
   "execution_count": 1,
   "id": "d7dc9279",
   "metadata": {},
   "outputs": [],
   "source": [
    "from Demand_restoration import *"
   ]
  },
  {
   "cell_type": "markdown",
   "id": "249691a4",
   "metadata": {},
   "source": [
    "## Reading input files"
   ]
  },
  {
   "cell_type": "code",
   "execution_count": 2,
   "id": "9beeeca6",
   "metadata": {},
   "outputs": [],
   "source": [
    "PRODUCT_ATTR = pd.read_csv('data/DPS_PRODUCT_ATTR.csv')\n",
    "STOCK = pd.read_csv('data/DPS_STOCK.csv')\n",
    "SELL_IN = pd.read_csv('data/DPS_SELL_IN.csv')\n",
    "SELL_OUT = pd.read_csv('data/DPS_SELL_OUT.csv')\n",
    "PROMO = pd.read_csv('data/DPS_PROMO.csv')\n",
    "\n",
    "PRODUCT = pd.read_csv('data/DPS_PRODUCT.csv')\n",
    "LOCATION = pd.read_csv('data/DPS_LOCATION.csv')\n",
    "CUSTOMER = pd.read_csv('data/DPS_CUSTOMER.csv')\n",
    "DISTR_CHANNEL = pd.read_csv('data/DPS_DISTR_CHANNEL.csv')\n",
    "\n",
    "hierarchies = {\n",
    "    'PRODUCT' : PRODUCT,\n",
    "    'LOCATION' : LOCATION,\n",
    "    'CUSTOMER' : CUSTOMER,\n",
    "    'DISTR_CHANNEL' : DISTR_CHANNEL\n",
    "}"
   ]
  },
  {
   "cell_type": "markdown",
   "id": "30dbbfce",
   "metadata": {},
   "source": [
    "## Config example"
   ]
  },
  {
   "cell_type": "code",
   "execution_count": 3,
   "id": "a4aaf4d6",
   "metadata": {},
   "outputs": [],
   "source": [
    "DR_PARAMETERS = {\n",
    "    'DR_OBS_NUM' : 30,\n",
    "    'DR_LIFECYCLE_MARGIN' : 7,\n",
    "    'DR_PERIOD_LENGTH' : 30,\n",
    "    'DEF_INV_TRSHD' : 1000,\n",
    "    'DEF_QTY_TRSHD' : 10,\n",
    "    'MIN_SALES_QTY_DAY' : 0,\n",
    "    'MIN_PROLONG_HIST_MONTH' : 3,\n",
    "    'MAX_PROLONG_HIST_MONTH' : 24,\n",
    "    'HIGH_TURNOVER_TRSHD' : 1000,\n",
    "    'MIN_ND_DAYS' : 1\n",
    "}\n",
    "\n",
    "TGT_VAR_CONFIG = {\n",
    "    'tgt_type' : 'pos',\n",
    "    'value_src' : 'SALES_QTY',\n",
    "    'act_flag' : 1,\n",
    "    'dr_scen' : 3,\n",
    "    'link_with_stock' : 1,\n",
    "    'link_with_promo' : 0,\n",
    "    'link_with_price' : 1,\n",
    "    'vf_product_lvl' : 7,\n",
    "    'vf_location_lvl' : 1,\n",
    "    'vf_customer_lvl' : 5,\n",
    "    'vf_distr_channel_lvl' : 1,\n",
    "    'vf_time_lvl' : 'MONTH',\n",
    "    'ml_product_lvl' : 7,\n",
    "    'ml_location_lvl' : 5,\n",
    "    'ml_customer_lvl' : 4,\n",
    "    'ml_distr_channel_lvl' : 1,\n",
    "    'ml_time_lvl' : 'WEEK'\n",
    "}\n",
    "\n",
    "SEASONAL_FLAG_CONFIG = {\n",
    "    'EA' : 1,\n",
    "    'NY' : 1,\n",
    "    'BA' : 1,\n",
    "    'XX' : 1,\n",
    "    'YY' : 1\n",
    "}\n",
    "\n",
    "SEASONAL_FLAG_CONFIG = pd.DataFrame([SEASONAL_FLAG_CONFIG]).T.reset_index().rename(columns={'index':'PRODUCT_ATTR_NAME', 0:'PRODUCT_ATTR_VALUE'})\n",
    "\n",
    "IB_MAX_DT = datetime.datetime(2100, 1, 1)\n",
    "IB_UPDATE_HISTORY_DEPTH = 30\n",
    "IB_HIST_START_DT = datetime.datetime(2022, 6, 15)\n",
    "IB_HIST_END_DT = datetime.datetime(2022, 7, 11)\n",
    "HIGH_TURNOVER_TRSHD = 100"
   ]
  },
  {
   "cell_type": "markdown",
   "id": "82957438",
   "metadata": {},
   "source": [
    "## Generating data"
   ]
  },
  {
   "cell_type": "code",
   "execution_count": 4,
   "id": "00115987",
   "metadata": {},
   "outputs": [],
   "source": [
    "SALES, FORECAST_FLAG, RESTORED_DEMAND, PROMO, STOCK, PRODUCT_ATTR = generate_data(\n",
    "    DR_PARAMETERS, TGT_VAR_CONFIG, IB_MAX_DT, IB_UPDATE_HISTORY_DEPTH, IB_HIST_START_DT,\n",
    "    IB_HIST_END_DT, hierarchies, STOCK, PROMO, PRODUCT_ATTR\n",
    ")"
   ]
  },
  {
   "cell_type": "markdown",
   "id": "006714db",
   "metadata": {},
   "source": [
    "## Running the algorighm"
   ]
  },
  {
   "cell_type": "code",
   "execution_count": 5,
   "id": "570c8c5e",
   "metadata": {},
   "outputs": [],
   "source": [
    "df = demand_restoration_algorithm(\n",
    "    DR_PARAMETERS, TGT_VAR_CONFIG, IB_MAX_DT, IB_UPDATE_HISTORY_DEPTH, IB_HIST_START_DT,\n",
    "    IB_HIST_END_DT, hierarchies, STOCK, PROMO, SALES, FORECAST_FLAG, RESTORED_DEMAND,\n",
    "    HIGH_TURNOVER_TRSHD, PRODUCT_ATTR, SEASONAL_FLAG_CONFIG\n",
    ")"
   ]
  },
  {
   "cell_type": "code",
   "execution_count": 8,
   "id": "0c11a516",
   "metadata": {},
   "outputs": [
    {
     "data": {
      "text/plain": [
       "0     2022-06-15\n",
       "1     2022-06-15\n",
       "2     2022-06-15\n",
       "3     2022-06-15\n",
       "5     2022-06-15\n",
       "6     2022-06-15\n",
       "7     2022-06-15\n",
       "8     2022-06-15\n",
       "9     2022-06-15\n",
       "10    2022-06-15\n",
       "11    2022-06-15\n",
       "13    2022-06-15\n",
       "14    2022-06-15\n",
       "15    2022-06-15\n",
       "16    2022-06-15\n",
       "17    2022-06-15\n",
       "18    2022-06-15\n",
       "20    2022-06-15\n",
       "21    2022-06-15\n",
       "22    2022-06-15\n",
       "23    2022-06-15\n",
       "24    2022-06-15\n",
       "25    2022-06-15\n",
       "26    2022-06-15\n",
       "27    2022-06-15\n",
       "28    2022-06-15\n",
       "29    2022-06-15\n",
       "Name: PERIOD_DT, dtype: object"
      ]
     },
     "execution_count": 8,
     "metadata": {},
     "output_type": "execute_result"
    }
   ],
   "source": [
    "df['PERIOD_DT'] = pd.to_datetime(df['PERIOD_DT']).dt.date"
   ]
  },
  {
   "cell_type": "code",
   "execution_count": null,
   "id": "0c86f153",
   "metadata": {},
   "outputs": [],
   "source": [
    "df"
   ]
  }
 ],
 "metadata": {
  "kernelspec": {
   "display_name": "Python 3 (ipykernel)",
   "language": "python",
   "name": "python3"
  },
  "language_info": {
   "codemirror_mode": {
    "name": "ipython",
    "version": 3
   },
   "file_extension": ".py",
   "mimetype": "text/x-python",
   "name": "python",
   "nbconvert_exporter": "python",
   "pygments_lexer": "ipython3",
   "version": "3.8.8"
  }
 },
 "nbformat": 4,
 "nbformat_minor": 5
}
